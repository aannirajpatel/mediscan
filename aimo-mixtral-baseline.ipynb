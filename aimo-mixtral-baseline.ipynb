{
 "cells": [
  {
   "cell_type": "code",
   "execution_count": 1,
   "id": "3f49dc97",
   "metadata": {
    "_cell_guid": "7a68dde8-f5e9-4cb0-9513-32d6264e9a88",
    "_uuid": "9546aad9-0e2f-4ea8-863e-9c99caef4d7d",
    "collapsed": false,
    "execution": {
     "iopub.execute_input": "2024-04-18T14:48:45.529020Z",
     "iopub.status.busy": "2024-04-18T14:48:45.528503Z",
     "iopub.status.idle": "2024-04-18T14:48:45.534060Z",
     "shell.execute_reply": "2024-04-18T14:48:45.533181Z"
    },
    "jupyter": {
     "outputs_hidden": false
    },
    "papermill": {
     "duration": 0.018974,
     "end_time": "2024-04-18T14:48:45.536367",
     "exception": false,
     "start_time": "2024-04-18T14:48:45.517393",
     "status": "completed"
    },
    "tags": []
   },
   "outputs": [],
   "source": [
    "# credits: https://www.kaggle.com/code/aatiffraz/prompt-prediction-w-mixtral-mistral7b-gemma-llama"
   ]
  },
  {
   "cell_type": "code",
   "execution_count": 2,
   "id": "2c0ee859",
   "metadata": {
    "_cell_guid": "873ef7fc-de43-4e47-80b6-0cf53acc91dc",
    "_uuid": "b2bbe983-a46e-4e36-9dff-424ce720045e",
    "collapsed": false,
    "execution": {
     "iopub.execute_input": "2024-04-18T14:48:45.556766Z",
     "iopub.status.busy": "2024-04-18T14:48:45.555778Z",
     "iopub.status.idle": "2024-04-18T14:49:28.653467Z",
     "shell.execute_reply": "2024-04-18T14:49:28.652179Z"
    },
    "jupyter": {
     "outputs_hidden": false
    },
    "papermill": {
     "duration": 43.110863,
     "end_time": "2024-04-18T14:49:28.656428",
     "exception": false,
     "start_time": "2024-04-18T14:48:45.545565",
     "status": "completed"
    },
    "tags": []
   },
   "outputs": [],
   "source": [
    "!pip install -U /kaggle/input/bitsandbytes-0-42-0-py3-none-any-whl/bitsandbytes-0.42.0-py3-none-any.whl -qq"
   ]
  },
  {
   "cell_type": "code",
   "execution_count": 3,
   "id": "5ef95eee",
   "metadata": {
    "_cell_guid": "ec3fc04f-6bda-4b66-85ba-0ef231802ca1",
    "_uuid": "a50c64f4-caec-4da2-b6a2-23784ca6acac",
    "collapsed": false,
    "execution": {
     "iopub.execute_input": "2024-04-18T14:49:28.676859Z",
     "iopub.status.busy": "2024-04-18T14:49:28.675986Z",
     "iopub.status.idle": "2024-04-18T15:04:01.149674Z",
     "shell.execute_reply": "2024-04-18T15:04:01.148509Z"
    },
    "jupyter": {
     "outputs_hidden": false
    },
    "papermill": {
     "duration": 872.486935,
     "end_time": "2024-04-18T15:04:01.152448",
     "exception": false,
     "start_time": "2024-04-18T14:49:28.665513",
     "status": "completed"
    },
    "tags": []
   },
   "outputs": [
    {
     "data": {
      "application/vnd.jupyter.widget-view+json": {
       "model_id": "422a7c176c6449f79776b4151f87c696",
       "version_major": 2,
       "version_minor": 0
      },
      "text/plain": [
       "Loading checkpoint shards:   0%|          | 0/19 [00:00<?, ?it/s]"
      ]
     },
     "metadata": {},
     "output_type": "display_data"
    }
   ],
   "source": [
    "import torch\n",
    "from transformers import AutoModelForCausalLM, AutoTokenizer, BitsAndBytesConfig, AutoConfig\n",
    "\n",
    "MODEL_PATH = \"/kaggle/input/mixtral/pytorch/8x7b-instruct-v0.1-hf/1\"\n",
    "\n",
    "quantization_config = BitsAndBytesConfig(\n",
    "    load_in_4bit = True,\n",
    "    bnb_4bit_quant_type=\"nf4\",\n",
    "    bnb_4bit_compute_dtype=torch.bfloat16,\n",
    "    bnb_4bit_use_double_quant=True,\n",
    ")\n",
    "\n",
    "# To prevent GPU memory overflow in Mixtral8x7b\n",
    "config = AutoConfig.from_pretrained(MODEL_PATH)\n",
    "config.gradient_checkpointing = True\n",
    "\n",
    "\n",
    "tokenizer = AutoTokenizer.from_pretrained(MODEL_PATH)\n",
    "\n",
    "model = AutoModelForCausalLM.from_pretrained(\n",
    "    MODEL_PATH,\n",
    "    device_map = \"auto\",\n",
    "    trust_remote_code = True,\n",
    "    quantization_config=quantization_config,\n",
    "    config=config\n",
    ")"
   ]
  },
  {
   "cell_type": "code",
   "execution_count": 4,
   "id": "f31a1d12",
   "metadata": {
    "_cell_guid": "a24a341d-f442-4b01-8721-2b44c28eca67",
    "_uuid": "41f6b94f-4d9c-4f09-a63f-4ba05e0d2d98",
    "collapsed": false,
    "execution": {
     "iopub.execute_input": "2024-04-18T15:04:01.173214Z",
     "iopub.status.busy": "2024-04-18T15:04:01.172380Z",
     "iopub.status.idle": "2024-04-18T15:04:03.280935Z",
     "shell.execute_reply": "2024-04-18T15:04:03.279634Z"
    },
    "jupyter": {
     "outputs_hidden": false
    },
    "papermill": {
     "duration": 2.127077,
     "end_time": "2024-04-18T15:04:03.289109",
     "exception": false,
     "start_time": "2024-04-18T15:04:01.162032",
     "status": "completed"
    },
    "tags": []
   },
   "outputs": [
    {
     "data": {
      "text/html": [
       "<div>\n",
       "<style scoped>\n",
       "    .dataframe tbody tr th:only-of-type {\n",
       "        vertical-align: middle;\n",
       "    }\n",
       "\n",
       "    .dataframe tbody tr th {\n",
       "        vertical-align: top;\n",
       "    }\n",
       "\n",
       "    .dataframe thead th {\n",
       "        text-align: right;\n",
       "    }\n",
       "</style>\n",
       "<table border=\"1\" class=\"dataframe\">\n",
       "  <thead>\n",
       "    <tr style=\"text-align: right;\">\n",
       "      <th></th>\n",
       "      <th>id</th>\n",
       "      <th>problem</th>\n",
       "    </tr>\n",
       "  </thead>\n",
       "  <tbody>\n",
       "    <tr>\n",
       "      <th>0</th>\n",
       "      <td>000aaa</td>\n",
       "      <td>What is $1-1$?</td>\n",
       "    </tr>\n",
       "    <tr>\n",
       "      <th>1</th>\n",
       "      <td>111bbb</td>\n",
       "      <td>What is $0\\times10$?</td>\n",
       "    </tr>\n",
       "    <tr>\n",
       "      <th>2</th>\n",
       "      <td>222ccc</td>\n",
       "      <td>Solve $4+x=4$ for $x$.</td>\n",
       "    </tr>\n",
       "  </tbody>\n",
       "</table>\n",
       "</div>"
      ],
      "text/plain": [
       "       id                 problem\n",
       "0  000aaa          What is $1-1$?\n",
       "1  111bbb    What is $0\\times10$?\n",
       "2  222ccc  Solve $4+x=4$ for $x$."
      ]
     },
     "execution_count": 4,
     "metadata": {},
     "output_type": "execute_result"
    }
   ],
   "source": [
    "import pandas as pd\n",
    "from tqdm import tqdm\n",
    "PRIVATE = True\n",
    "\n",
    "df = pd.read_csv('/kaggle/input/ai-mathematical-olympiad-prize/test.csv')\n",
    "df.head()"
   ]
  },
  {
   "cell_type": "code",
   "execution_count": 5,
   "id": "f42c1a57",
   "metadata": {
    "_cell_guid": "5c05486d-9f7b-408b-9a94-d0b1b396c7b9",
    "_uuid": "8bd0a87b-338e-45d9-88d3-dff29a4f079a",
    "collapsed": false,
    "execution": {
     "iopub.execute_input": "2024-04-18T15:04:03.309819Z",
     "iopub.status.busy": "2024-04-18T15:04:03.308548Z",
     "iopub.status.idle": "2024-04-18T15:04:03.328106Z",
     "shell.execute_reply": "2024-04-18T15:04:03.326909Z"
    },
    "jupyter": {
     "outputs_hidden": false
    },
    "papermill": {
     "duration": 0.032406,
     "end_time": "2024-04-18T15:04:03.330785",
     "exception": false,
     "start_time": "2024-04-18T15:04:03.298379",
     "status": "completed"
    },
    "tags": []
   },
   "outputs": [
    {
     "data": {
      "text/html": [
       "<div>\n",
       "<style scoped>\n",
       "    .dataframe tbody tr th:only-of-type {\n",
       "        vertical-align: middle;\n",
       "    }\n",
       "\n",
       "    .dataframe tbody tr th {\n",
       "        vertical-align: top;\n",
       "    }\n",
       "\n",
       "    .dataframe thead th {\n",
       "        text-align: right;\n",
       "    }\n",
       "</style>\n",
       "<table border=\"1\" class=\"dataframe\">\n",
       "  <thead>\n",
       "    <tr style=\"text-align: right;\">\n",
       "      <th></th>\n",
       "      <th>id</th>\n",
       "      <th>problem</th>\n",
       "      <th>answer</th>\n",
       "    </tr>\n",
       "  </thead>\n",
       "  <tbody>\n",
       "    <tr>\n",
       "      <th>0</th>\n",
       "      <td>229ee8</td>\n",
       "      <td>Let $k, l &gt; 0$ be parameters. The parabola $y ...</td>\n",
       "      <td>52</td>\n",
       "    </tr>\n",
       "    <tr>\n",
       "      <th>1</th>\n",
       "      <td>246d26</td>\n",
       "      <td>Each of the three-digits numbers $111$ to $999...</td>\n",
       "      <td>250</td>\n",
       "    </tr>\n",
       "    <tr>\n",
       "      <th>2</th>\n",
       "      <td>2fc4ad</td>\n",
       "      <td>Let the `sparkle' operation on positive intege...</td>\n",
       "      <td>702</td>\n",
       "    </tr>\n",
       "    <tr>\n",
       "      <th>3</th>\n",
       "      <td>430b63</td>\n",
       "      <td>What is the minimum value of $5x^2+5y^2-8xy$ w...</td>\n",
       "      <td>800</td>\n",
       "    </tr>\n",
       "    <tr>\n",
       "      <th>4</th>\n",
       "      <td>5277ed</td>\n",
       "      <td>There exists a unique increasing geometric seq...</td>\n",
       "      <td>211</td>\n",
       "    </tr>\n",
       "  </tbody>\n",
       "</table>\n",
       "</div>"
      ],
      "text/plain": [
       "       id                                            problem  answer\n",
       "0  229ee8  Let $k, l > 0$ be parameters. The parabola $y ...      52\n",
       "1  246d26  Each of the three-digits numbers $111$ to $999...     250\n",
       "2  2fc4ad  Let the `sparkle' operation on positive intege...     702\n",
       "3  430b63  What is the minimum value of $5x^2+5y^2-8xy$ w...     800\n",
       "4  5277ed  There exists a unique increasing geometric seq...     211"
      ]
     },
     "execution_count": 5,
     "metadata": {},
     "output_type": "execute_result"
    }
   ],
   "source": [
    "if len(df) < 5:\n",
    "    df = pd.read_csv('/kaggle/input/ai-mathematical-olympiad-prize/train.csv')\n",
    "    PRIVATE = False\n",
    "df.head()"
   ]
  },
  {
   "cell_type": "code",
   "execution_count": 6,
   "id": "97b434b1",
   "metadata": {
    "_cell_guid": "be971a0d-2093-4301-8c3c-ea2f2700c8e1",
    "_uuid": "374caa9c-58be-49ad-93ff-f83f3a2db62f",
    "collapsed": false,
    "execution": {
     "iopub.execute_input": "2024-04-18T15:04:03.353992Z",
     "iopub.status.busy": "2024-04-18T15:04:03.352968Z",
     "iopub.status.idle": "2024-04-18T15:04:03.358767Z",
     "shell.execute_reply": "2024-04-18T15:04:03.357674Z"
    },
    "jupyter": {
     "outputs_hidden": false
    },
    "papermill": {
     "duration": 0.019664,
     "end_time": "2024-04-18T15:04:03.360989",
     "exception": false,
     "start_time": "2024-04-18T15:04:03.341325",
     "status": "completed"
    },
    "tags": []
   },
   "outputs": [],
   "source": [
    "def gen_prompt(problem):\n",
    "    \n",
    "    return f\"\"\"\n",
    "Below is an instruction that describes a task. Write a response that appropriately completes the request.\\n\\n\n",
    "### Instruction:\\n{problem}\\n\\n\n",
    "### Response: Let's think step by step. The final response should be a single number in the last line of your response.\n",
    "\"\"\""
   ]
  },
  {
   "cell_type": "code",
   "execution_count": 7,
   "id": "033a4b1c",
   "metadata": {
    "_cell_guid": "223b82aa-d00e-4c4f-9b8f-62d8f824291f",
    "_uuid": "1a2ca3ac-686b-4062-b198-24cf3587d02f",
    "collapsed": false,
    "execution": {
     "iopub.execute_input": "2024-04-18T15:04:03.381400Z",
     "iopub.status.busy": "2024-04-18T15:04:03.381004Z",
     "iopub.status.idle": "2024-04-18T15:04:03.385799Z",
     "shell.execute_reply": "2024-04-18T15:04:03.384712Z"
    },
    "jupyter": {
     "outputs_hidden": false
    },
    "papermill": {
     "duration": 0.017937,
     "end_time": "2024-04-18T15:04:03.388273",
     "exception": false,
     "start_time": "2024-04-18T15:04:03.370336",
     "status": "completed"
    },
    "tags": []
   },
   "outputs": [],
   "source": [
    "import gc\n",
    "device = 'cuda'"
   ]
  },
  {
   "cell_type": "code",
   "execution_count": 8,
   "id": "be6dd4e2",
   "metadata": {
    "_cell_guid": "7d8ad8cf-1da9-46a1-83cf-f971ffe5793b",
    "_uuid": "90118e31-22e7-4433-a1f3-8e85087f340a",
    "collapsed": false,
    "execution": {
     "iopub.execute_input": "2024-04-18T15:04:03.409415Z",
     "iopub.status.busy": "2024-04-18T15:04:03.408654Z",
     "iopub.status.idle": "2024-04-18T15:04:03.415684Z",
     "shell.execute_reply": "2024-04-18T15:04:03.414617Z"
    },
    "jupyter": {
     "outputs_hidden": false
    },
    "papermill": {
     "duration": 0.020258,
     "end_time": "2024-04-18T15:04:03.418130",
     "exception": false,
     "start_time": "2024-04-18T15:04:03.397872",
     "status": "completed"
    },
    "tags": []
   },
   "outputs": [],
   "source": [
    "def naive_parse(answer):\n",
    "    out = []\n",
    "    start = False\n",
    "    end = False\n",
    "    for l in reversed(list(answer)):\n",
    "        if l in '0123456789' and not end:\n",
    "            start = True\n",
    "            out.append(l)\n",
    "        else:\n",
    "            if start:\n",
    "                end = True\n",
    "        \n",
    "    out = reversed(out)\n",
    "    return int(''.join(out))"
   ]
  },
  {
   "cell_type": "code",
   "execution_count": 9,
   "id": "00a1a104",
   "metadata": {
    "_cell_guid": "75b9d377-f440-4819-b3c2-262191ae4a1e",
    "_uuid": "5dc2980e-ec76-4fda-94d3-7d9cd8225dbe",
    "collapsed": false,
    "execution": {
     "iopub.execute_input": "2024-04-18T15:04:03.438605Z",
     "iopub.status.busy": "2024-04-18T15:04:03.437682Z",
     "iopub.status.idle": "2024-04-18T15:32:41.655427Z",
     "shell.execute_reply": "2024-04-18T15:32:41.654362Z"
    },
    "jupyter": {
     "outputs_hidden": false
    },
    "papermill": {
     "duration": 1718.243398,
     "end_time": "2024-04-18T15:32:41.670663",
     "exception": false,
     "start_time": "2024-04-18T15:04:03.427265",
     "status": "completed"
    },
    "tags": []
   },
   "outputs": [
    {
     "name": "stderr",
     "output_type": "stream",
     "text": [
      "  0%|          | 0/10 [00:00<?, ?it/s]2024-04-18 15:04:14.177288: E external/local_xla/xla/stream_executor/cuda/cuda_dnn.cc:9261] Unable to register cuDNN factory: Attempting to register factory for plugin cuDNN when one has already been registered\n",
      "2024-04-18 15:04:14.177431: E external/local_xla/xla/stream_executor/cuda/cuda_fft.cc:607] Unable to register cuFFT factory: Attempting to register factory for plugin cuFFT when one has already been registered\n",
      "2024-04-18 15:04:14.473344: E external/local_xla/xla/stream_executor/cuda/cuda_blas.cc:1515] Unable to register cuBLAS factory: Attempting to register factory for plugin cuBLAS when one has already been registered\n"
     ]
    },
    {
     "name": "stdout",
     "output_type": "stream",
     "text": [
      "0\n",
      "First, we need to find the points of intersection $A$ and $B$ between the parabola and the line $y = 4$. This gives us the following system of equations:\n",
      "\n",
      "$4 = kx^2 - 2kx + l$ and $y = 4 \\Rightarrow 4 = y \\Rightarrow 4 = kx^2 - 2kx + l$\n",
      "\n",
      "Rearranging the second equation, we get $l = 4 - kx^2 + 2kx$. Substituting this into the first equation, we have:\n",
      "\n",
      "$4 = kx^2 - 2kx + (4 - kx^2 + 2kx)$\n",
      "\n",
      "Simplifying, we get:\n",
      "\n",
      "$0 = -kx^2 + 2kx + 4$\n",
      "\n",
      "Dividing through by $-k$, we have:\n",
      "\n",
      "$x^2 - \\frac{2}{k}x - \\frac{4}{k} = 0$\n",
      "\n",
      "This is a quadratic equation. We can solve it using the quadratic formula:\n",
      "\n",
      "$x = \\frac{-(-2/k) \\pm \\sqrt{(-2/k)^2 - 4(-1)(-4/k)}}{2(-1)}$\n",
      "\n",
      "$x = \\frac{2/k \\pm \\sqrt{4/k^2 + 16/k}}{2}$\n",
      "\n",
      "Let $x_1$ and $x_2$ be the two solutions. Then, the points of intersection are $A(x_1, 4)$ and $B(x_2, 4)$. The sum of the squares of the distances from $A$ and $B$ to the origin is:\n",
      "\n",
      "$d(A, 0)^2 + d(B, 0)^2 = x_1^2 + y_1^2 + x_2^2 + y_2^2 = x_1^2 + 4 + x_2^2 + 4 = x_1^2 + x_2^2 + 8$\n",
      "\n",
      "Since the points are a distance of 6 apart, we know that:\n",
      "\n",
      "$(x_1 - x_2)^2 = 6^2 = 36$\n",
      "\n",
      "Expanding and rearranging, we get:\n",
      "\n",
      "$x_1^2 - 2x_1x_2 + x_2^2 = 36$\n",
      "\n",
      "Now, we can use this to simplify the sum of the squares of the distances:\n",
      "\n",
      "$d(A, 0)^2 + d(B, 0)^2 = x_1^2 + x_2^2 + 8 = (x_1^2 - 2x_1x_2 + x_2^2) + (x_1^2 + x_2^2 + 2x_1x_2) + 8 = 2(x_1^2 + x_2^2 + 2x_1x_2) + 8 = 2((x_1 - x_2)^2 + 2x_1x_2) + 8 = 2(36 + 2x_1x_2) + 8 = 72 + 4x_1x_2$\n",
      "\n",
      "However, we do not have enough information to determine the value of $x_1x_2$. Therefore, we cannot provide a single numerical answer for the sum of the squares of the distances from $A$ and $B$ to the origin.\n",
      "2\n",
      "2\n"
     ]
    },
    {
     "name": "stderr",
     "output_type": "stream",
     "text": [
      " 10%|█         | 1/10 [04:04<36:37, 244.18s/it]"
     ]
    },
    {
     "name": "stdout",
     "output_type": "stream",
     "text": [
      "1\n",
      "To solve this problem, let's first notice that the sum of any two (not necessarily different) yellow numbers should be a blue number. This implies that the sum of any two yellow numbers should be unique, otherwise, we can replace one of them with a new blue number.\n",
      "\n",
      "Now, let's consider the smallest and the largest possible blue numbers: 112 (the smallest even three-digit number) and 999. We can't have any yellow numbers greater than or equal to 112 because they can't form a unique sum with another yellow number without creating a blue number less than 112.\n",
      "\n",
      "Let's see the largest possible sum of two yellow numbers that is still less than 112:\n",
      "99 + 11 = 110\n",
      "\n",
      "We can fit 9 nines and 11 ones in the given range (111-999) as yellow numbers:\n",
      "99, 99, 99, 99, 99, 99, 99, 99, 11, 11, 11, ..., 11\n",
      "\n",
      "The sum of these 12 yellow numbers is:\n",
      "9 * 90 + 3 * 11 = 810 + 33 = 843\n",
      "\n",
      "Since 843 is greater than 112, we can't fit more than 12 yellow numbers. However, we can replace one of the nines with a 112 and have 13 yellow numbers:\n",
      "112, 99, 99, 99, 99, 99, 99, 99, 11, 11, 11, 11, 11\n",
      "\n",
      "The sum of these 13 yellow numbers is:\n",
      "112 + 9 * 90 + 3 * 11 = 112 + 810 + 33 = 955\n",
      "\n",
      "We can't fit more than 13 yellow numbers without creating a sum less than 112 or greater than 999.\n",
      "\n",
      "Therefore, the maximum possible number of yellow numbers is **13**.\n",
      "13\n",
      "13\n"
     ]
    },
    {
     "name": "stderr",
     "output_type": "stream",
     "text": [
      " 20%|██        | 2/10 [06:26<24:34, 184.30s/it]"
     ]
    },
    {
     "name": "stdout",
     "output_type": "stream",
     "text": [
      "2\n",
      "To solve this problem, we need to find the special numbers that eventually lead to a number less than 6 through the sparkle operation. The sparkle operation involves calculating the sum of the digits of a number and taking its factorial. We need to find the special numbers such that no matter how many times we perform the sparkle operation, the resulting number will always be less than 6.\n",
      "\n",
      "We can start by finding the factorial of numbers up to 10, as any number greater than 10 will eventually result in a number greater than or equal to 10 after the sparkle operation. The factorials of numbers up to 10 are as follows:\n",
      "\n",
      "1! = 1\n",
      "2! = 2\n",
      "3! = 6\n",
      "4! = 24\n",
      "5! = 120\n",
      "6! = 720\n",
      "7! = 5040\n",
      "8! = 40320\n",
      "9! = 362880\n",
      "10! = 3628800\n",
      "\n",
      "We can see that the factorial of any number greater than 3 will result in a number greater than or equal to 6. Therefore, the special numbers can only be composed of the digits 0, 1, 2, and 3.\n",
      "\n",
      "Furthermore, since the sum of the digits of any number greater than 6 will result in a number greater than 3, the special numbers can only be composed of the digits 0, 1, 2, and 3, and their sum of digits must be less than or equal to 3.\n",
      "\n",
      "The possible special numbers are:\n",
      "\n",
      "0, 1, 2, 3, 10, 11, 12, 13, 20, 21, 22, 23, 30, 31, 32, 33\n",
      "\n",
      "We can see that there are 16 special numbers with at most 36 digits.\n",
      "36\n",
      "36\n"
     ]
    },
    {
     "name": "stderr",
     "output_type": "stream",
     "text": [
      " 30%|███       | 3/10 [08:35<18:32, 158.99s/it]"
     ]
    },
    {
     "name": "stdout",
     "output_type": "stream",
     "text": [
      "3\n",
      "To solve this problem, we can use the method of Lagrange multipliers. First, let's rewrite the equation $|x-2y| + |y-2x| = 40$ as two equations, one for the case when $x-2y \\geq 0$ and $y-2x \\geq 0$, and another for the case when $x-2y \\leq 0$ and $y-2x \\leq 0$. This gives us:\n",
      "\n",
      "$x - 2y + y - 2x = 40$ for the first case, which simplifies to $3(x-y) = 40$, or $x-y = 40/3$.\n",
      "\n",
      "And $-x + 2y - y + 2x = 40$ for the second case, which simplifies to $x+y = 40/3$.\n",
      "\n",
      "Now, we want to find the minimum value of $5x^2 + 5y^2 - 8xy$ subject to these constraints. We introduce a Lagrange multiplier $\\lambda$ and form the Lagrangian:\n",
      "\n",
      "$L(x,y,\\lambda) = 5x^2 + 5y^2 - 8xy - \\lambda(|x-2y| + |y-2x| - 40/3)$\n",
      "\n",
      "We then take the gradient of $L$ with respect to $x, y,$ and $\\lambda$, and set them equal to zero:\n",
      "\n",
      "$\\nabla L = (10x - 8y - \\lambda \\cdot sign(x-2y), 10y - 8x - \\lambda \\cdot sign(y-2x), |x-2y| + |y-2x| - 40/3) = 0$\n",
      "\n",
      "where $sign$ is the sign function.\n",
      "\n",
      "Solving these equations is a bit involved, but we can simplify the problem by noticing that the objective function $5x^2 + 5y^2 - 8xy$ is minimized when $x=y$ or $x=-y$. This is because the cross term $-8xy$ is minimized when $x$ and $y$ are either equal or opposite.\n",
      "\n",
      "When $x=y$, the constraint equation becomes $3x = 40/3$, which gives $x = y = 40/9$. Plugging this into the objective function, we get $5(40/9)^2 + 5(40/9)^2 - 8(40/9)(40/9) = 177.67$.\n",
      "\n",
      "When $x=-y$, the constraint equation becomes $x + y = 40/3$, which gives $x = 20/9$ and $y = -20/9$. Plugging this into the objective function, we get $5(20/9)^2 + 5(-20/9)^2 + 8(20/9)(20/9) = 177.67$.\n",
      "\n",
      "Therefore, the minimum value of $5x^2 + 5y^2 - 8xy$ subject to the given constraint is $177.67$.\n",
      "67\n",
      "67\n"
     ]
    },
    {
     "name": "stderr",
     "output_type": "stream",
     "text": [
      " 40%|████      | 4/10 [11:58<17:39, 176.51s/it]"
     ]
    },
    {
     "name": "stdout",
     "output_type": "stream",
     "text": [
      "4\n",
      "First, we need to understand what a geometric sequence is. It is a sequence of numbers where each term after the first is found by multiplying the previous term by a fixed, non-zero number.\n",
      "\n",
      "Since it's an increasing geometric sequence of 2-digit positive integers, let's start with the smallest such number, which is 10. \n",
      "\n",
      "The next number in the sequence would be 10*r (where r is the common ratio). Since this number must also be a 2-digit positive integer, the smallest possible value for r would be 2/1 = 2 (the smallest prime number that ensures the sequence increases).\n",
      "\n",
      "So, the second number is 10*2 = 20.\n",
      "\n",
      "The third number is 20*2 = 40, but 40 is not a 2-digit positive integer, so we need to adjust our ratio. The next 2-digit positive integer after 2 is 3, so let's use that as our new ratio.\n",
      "\n",
      "The third number is then 20*3 = 60, and the fourth number is 60*3 = 180.\n",
      "\n",
      "The fifth number is 180*3 = 540, but 540 is not a 2-digit positive integer, so we made an error in our assumption that 3 would work as a ratio. Let's try the next prime number, 5.\n",
      "\n",
      "The third number remains 60, the fourth number is 60*5 = 300, and the fifth number is 300*5 = 1500. This is the smallest possible increasing geometric sequence of 2-digit positive integers with a common ratio of 5.\n",
      "\n",
      "The sum of this sequence is 10 + 20 + 60 + 300 + 1500 = 1880.\n",
      "1880\n",
      "880\n"
     ]
    },
    {
     "name": "stderr",
     "output_type": "stream",
     "text": [
      " 50%|█████     | 5/10 [14:01<13:04, 156.96s/it]"
     ]
    },
    {
     "name": "stdout",
     "output_type": "stream",
     "text": [
      "5\n",
      "To find the number of positive integers $m$ that result in 4 distinct solutions for the equation $|\\ |x-1|\\ -2|\\ =\\frac{m}{100}$, we first need to analyze the given equation.\n",
      "\n",
      "The given equation can be simplified as follows:\n",
      "\n",
      "1. $| |x-1| -2 |\\ = \\frac{m}{100}$\n",
      "2. $|x-1| - 2 = \\pm \\frac{m}{100}$ (since $|y| = y$ if $y \\geq 0$ and $|y| = -y$ if $y < 0$)\n",
      "3. $|x-1| = 2 \\pm \\frac{m}{100}$\n",
      "\n",
      "Now, let's consider the two possible cases for $|x-1|$:\n",
      "\n",
      "Case 1: $x - 1 \\geq 0 \\Rightarrow x \\geq 1$\n",
      "\n",
      "* In this case, $|x-1| = x-1$\n",
      "* So, $x - 1 = 2 \\pm \\frac{m}{100}$\n",
      "* This leads to $x = 3 \\pm \\frac{m}{100}$\n",
      "\n",
      "Case 2: $x - 1 < 0 \\Rightarrow x < 1$\n",
      "\n",
      "* In this case, $|x-1| = -(x-1) = 1-x$\n",
      "* So, $1-x = 2 \\pm \\frac{m}{100}$\n",
      "* This leads to $x = -1 \\pm \\frac{m}{100}$\n",
      "\n",
      "For both cases to have solutions, the RHS must be greater than or equal to 1 and less than or equal to 3.\n",
      "\n",
      "1. If $x = 3 + \\frac{m}{100}$, then $3 + \\frac{m}{100} \\geq 1 \\Rightarrow \\frac{m}{100} \\geq -2 \\Rightarrow m \\geq -200$\n",
      "2. If $x = -1 + \\frac{m}{100}$, then $-1 + \\frac{m}{100} \\leq 3 \\Rightarrow \\frac{m}{100} \\leq 4 \\Rightarrow m \\leq 400$\n",
      "\n",
      "Now, let's find the positive integers $m$ that result in 4 distinct solutions. Since we want 4 distinct solutions, we need to find the values of $m$ that satisfy both conditions above and also make the two other cases (from Case 1 and Case 2) distinct.\n",
      "\n",
      "The two other cases are:\n",
      "\n",
      "1. $x = 3 - \\frac{m}{100}$\n",
      "2. $x = 1 - \\frac{m}{100}$\n",
      "\n",
      "For these cases to be distinct, we need:\n",
      "\n",
      "* $3 + \\frac{m}{100} > 3 - \\frac{m}{100} \\Rightarrow \\frac{m}{100} > 0 \\Rightarrow m > 0$\n",
      "* $3 - \\frac{m}{100} > 1 - \\frac{m}{100} \\Rightarrow \\frac{m}{100} < 2 \\Rightarrow m < 200$\n",
      "\n",
      "Combining all the conditions, we find that the positive integers $m$ that result in 4 distinct solutions are:\n",
      "\n",
      "$m \\in (0, 200) \\cap \\mathbb{Z^+}$\n",
      "\n",
      "There are 200 such positive integers.\n",
      "200\n",
      "200\n"
     ]
    },
    {
     "name": "stderr",
     "output_type": "stream",
     "text": [
      " 60%|██████    | 6/10 [17:40<11:52, 178.05s/it]"
     ]
    },
    {
     "name": "stdout",
     "output_type": "stream",
     "text": [
      "6\n",
      "To find the probability that the highest roll is 5, we need to consider all possible scenarios where at least one of the dice shows a 5 and none of them show a 6.\n",
      "\n",
      "First, let's calculate the total number of outcomes when rolling four 6-sided dice. This is $6^4 = 1296$.\n",
      "\n",
      "Now, let's calculate the number of favorable outcomes:\n",
      "- One die can show 5: There are 4 dice that can be chosen to show 5, and the remaining 3 dice must show numbers between 1 and 4. The number of ways to do this is $4 \\times 4^3 = 256$.\n",
      "- Two dice can show 5: There are $C(4,2) = 6$ ways to choose 2 dice out of 4, and the remaining 2 dice must show numbers between 1 and 4. The number of ways to do this is $6 \\times 4^2 = 96$.\n",
      "- Three dice can show 5: There is only $C(4,3) = 4$ ways to choose 3 dice out of 4, and the remaining die must show a number between 1 and 4. The number of ways to do this is $4 \\times 4^1 = 16$.\n",
      "\n",
      "So, the total number of favorable outcomes is $256 + 96 + 16 = 368$.\n",
      "\n",
      "However, we also need to exclude cases where a 6 is rolled. For each scenario above, we need to subtract the cases where at least one 6 is rolled:\n",
      "- One die showing 5: There are 4 dice that can be chosen to show 5, and the other 3 dice must show numbers between 1 and 4, except for 6. The number of ways to do this is $4 \\times 3^3 = 108$.\n",
      "- Two dice showing 5: There are $C(4,2) = 6$ ways to choose 2 dice out of 4, and the other 2 dice must show numbers between 1 and 4, except for 6. The number of ways to do this is $6 \\times 3^2 = 54$.\n",
      "- Three dice showing 5: There is only $C(4,3) = 4$ ways to choose 3 dice out of 4, and the remaining die must show a number between 1 and 4, except for 6. The number of ways to do this is $4 \\times 3^1 = 12$.\n",
      "\n",
      "So, the total number of favorable outcomes, excluding cases with 6, is $368 - 108 - 54 - 12 = 194$.\n",
      "\n",
      "Now, let's calculate the probability:\n",
      "\n",
      "$P(highest roll is 5) = \\frac{194}{1296} = \\frac{97}{648}$\n",
      "\n",
      "Therefore, $a + b = 97 + 648 = \\boxed{745}$.\n",
      "745\n",
      "745\n"
     ]
    },
    {
     "name": "stderr",
     "output_type": "stream",
     "text": [
      " 70%|███████   | 7/10 [20:51<09:07, 182.43s/it]"
     ]
    },
    {
     "name": "stdout",
     "output_type": "stream",
     "text": [
      "7\n",
      "To find the area of the convex polygon, we first need to determine the set of points that satisfy the given equation. The equation equals zero, so we are looking for points where the expression inside the parentheses equals zero. This expression can be broken down into two separate expressions, both of which must equal zero:\n",
      "\n",
      "1. $(\\left | x+y \\right | - 10)^2 + ( \\left | x-y \\right | - 10)^2 = 0$\n",
      "2. $(\\left | x \\right | - 8)^2 + ( \\left | y \\right | - 8)^2 = 0$\n",
      "\n",
      "Let's analyze each expression separately.\n",
      "\n",
      "Expression 1:\n",
      "$(\\left | x+y \\right | - 10)^2 = 0 \\Rightarrow \\left | x+y \\right | = 10$\n",
      "This expression represents a pair of lines, $x+y=10$ and $x+y=-10$.\n",
      "\n",
      "Expression 2:\n",
      "$(\\left | x \\right | - 8)^2 = 0 \\Rightarrow \\left | x \\right | = 8$\n",
      "This expression represents two lines, $x=8$ and $x=-8$.\n",
      "\n",
      "Now, let's find the intersection points of these lines:\n",
      "\n",
      "1. $x+y=10$, $x=8 \\Rightarrow y=10-8=2$\n",
      "2. $x+y=10$, $x=-8 \\Rightarrow y=10-(-8)=18$\n",
      "3. $x-y=8$, $x=8 \\Rightarrow y=8-8=0$\n",
      "4. $x-y=-8$, $x=8 \\Rightarrow y=8-8=0$\n",
      "5. $x-y=-8$, $x=-8 \\Rightarrow y=-8-(-8)=0$\n",
      "\n",
      "The intersection points are $(8, 2)$, $(-8, 18)$, $(8, 0)$, and $(-8, 0)$.\n",
      "\n",
      "Since the absolute value expressions represent a square and the given equation represents the intersection of two squares, the figure formed by the intersection points is a convex quadrilateral.\n",
      "\n",
      "To find the area of the convex polygon, we can use the formula for the area of a quadrilateral:\n",
      "\n",
      "Area = $\\frac{1}{2} \\left | x_1 y_2 + x_2 y_3 + x_3 y_4 + x_4 y_1 - x_2 y_1 - x_1 y_3 - x_4 y_2 - x_3 y_4 \\right |$\n",
      "\n",
      "Using the intersection points, we get:\n",
      "\n",
      "Area = $\\frac{1}{2} \\left | 8(0) + (-8)(18) + (-8)(2) + 8(0) - (-8)(0) - 8(2) - (8)(18) - (-8)(0) \\right |$\n",
      "\n",
      "Area = $\\frac{1}{2} \\left | -144 - 16 - 24 - 144 \\right |$\n",
      "\n",
      "Area = $\\frac{1}{2} \\left | -328 \\right |$\n",
      "\n",
      "Area = 164\n",
      "\n",
      "The area of the convex polygon enclosed by the given equation is 164 square units.\n",
      "164\n",
      "164\n"
     ]
    },
    {
     "name": "stderr",
     "output_type": "stream",
     "text": [
      " 80%|████████  | 8/10 [24:22<06:22, 191.45s/it]"
     ]
    },
    {
     "name": "stdout",
     "output_type": "stream",
     "text": [
      "8\n",
      "First, let's find the coordinates of points P and Q. Since A is the origin, the coordinates of P are (1/2, 0) and the coordinates of Q are (0, 1/24).\n",
      "\n",
      "Next, we need to find the equations of the lines DP and BQ. The slope of DP is (0 - 1/2)/(1 - 0) = -1/2, so the equation of DP is y = -1/2(x - 1). The equation of BQ can be found using the fact that it passes through the point (1, 1) and has a slope of (1 - 1/24)/(0 - 1) = -1/23. So the equation of BQ is y = -1/23(x - 1).\n",
      "\n",
      "Now we can find the points where DP and BQ intersect the horizontal and vertical lines passing through the midpoints of the sides of the square. The midpoints of the sides have coordinates (1/2, 1/2), (1/2, 0), (0, 1/2), and (1, 1/2). Solving the system of equations formed by DP and BQ with the equations of the midpoints, we find that the intersection points are (3/5, 2/5), (2/5, 3/25), (23/50, 27/50), and (27/50, 23/50).\n",
      "\n",
      "Now we can find the areas of the four regions. The regions are bounded by the lines DP, BQ, and the segments connecting the intersection points. The areas of the regions are given by the following formulas:\n",
      "\n",
      "Region 1: (1/2)(2/5) = 1/5\n",
      "Region 2: (1/2)(3/25) = 3/50\n",
      "Region 3: (1/2)(27/50 - 2/5) = 13/100\n",
      "Region 4: (1/2)(23/50 - 3/25) = 17/200\n",
      "\n",
      "The ratio of the areas of the largest region to the smallest region is:\n",
      "\n",
      "(13/100) / (17/200) = (13/100) * (200/17) = 26/17 ≈ 1.53\n",
      "\n",
      "Therefore, the ratio between the areas of the largest region and the smallest region is 26/17.\n",
      "\n",
      "Response: The ratio between the areas of the largest region and the smallest region is 26/17.\n",
      "17\n",
      "17\n"
     ]
    },
    {
     "name": "stderr",
     "output_type": "stream",
     "text": [
      " 90%|█████████ | 9/10 [27:15<03:05, 185.62s/it]"
     ]
    },
    {
     "name": "stdout",
     "output_type": "stream",
     "text": [
      "9\n",
      "First, let's find a general formula for $f(n)$. We know that $f(2n)=2f(n)+1$. By applying this equation recursively, we can find that $f(2^kn)=2^kf(n)+(2^k-1)$.\n",
      "\n",
      "Now, we want to find $f(n)$ when $n=2^k$, so that $f(n)$ is as large as possible while still being a power of $2$. This happens when $k=\\lfloor \\log_2 n \\rfloor$, so $f(100)=f(2^k)=2^kf(1)+(2^k-1)=100f(1)+99$.\n",
      "\n",
      "Next, we need to find $f(1)$. Since $f(f(f(n)))=8n-7$, then $f(f(2))=8(2)-7=1$. Thus, $f(1)=1$ because $f$ maps positive integers to positive integers.\n",
      "\n",
      "Now, we can find $f(100)=100f(1)+99=100(1)+99=199$. The final answer is $f(100)=199$.\n",
      "199\n",
      "199\n"
     ]
    },
    {
     "name": "stderr",
     "output_type": "stream",
     "text": [
      "100%|██████████| 10/10 [28:38<00:00, 171.82s/it]\n"
     ]
    }
   ],
   "source": [
    "answers = []\n",
    "\n",
    "for i in tqdm(range(len(df))):\n",
    "    try:\n",
    "        id_ = df['id'].loc[i]\n",
    "        problem = df['problem'].loc[i]\n",
    "        query_prompt = gen_prompt(problem)\n",
    "        \n",
    "        messages = [\n",
    "            {\n",
    "                \"role\": \"user\",\n",
    "                \"content\": query_prompt\n",
    "            }\n",
    "        ]\n",
    "\n",
    "        inputs = tokenizer.apply_chat_template(messages, return_tensors=\"pt\").to(\"cuda\")\n",
    "\n",
    "        with torch.no_grad():\n",
    "            encoded_output = model.generate(inputs, max_new_tokens=1500, do_sample=False, pad_token_id=tokenizer.eos_token_id)\n",
    "\n",
    "        decoded_output = tokenizer.decode(encoded_output[0], skip_special_tokens=True).replace(query_prompt, '').replace(\"[INST]\", \"\").replace(\"[/INST]\", \"\").strip()\n",
    "    \n",
    "        print(i)\n",
    "        print(decoded_output)\n",
    "        \n",
    "        answer = decoded_output.split('\\n')[-1]\n",
    "        answer = naive_parse(answer)\n",
    "        print(answer)\n",
    "        answer = int(answer) % 1000\n",
    "        print(answer)\n",
    "        answers.append(answer)\n",
    "        torch.cuda.empty_cache()\n",
    "        gc.collect()\n",
    "        \n",
    "    except Exception as e:\n",
    "        print(e)\n",
    "        answers.append(0)"
   ]
  },
  {
   "cell_type": "code",
   "execution_count": 10,
   "id": "1dc4b680",
   "metadata": {
    "_cell_guid": "3bdf566b-ad2f-47b3-8c28-728088f17a1a",
    "_uuid": "f94aa2a5-7fd4-4a7f-b61f-894aed2dc419",
    "collapsed": false,
    "execution": {
     "iopub.execute_input": "2024-04-18T15:32:41.696043Z",
     "iopub.status.busy": "2024-04-18T15:32:41.695298Z",
     "iopub.status.idle": "2024-04-18T15:32:41.700753Z",
     "shell.execute_reply": "2024-04-18T15:32:41.699705Z"
    },
    "jupyter": {
     "outputs_hidden": false
    },
    "papermill": {
     "duration": 0.020599,
     "end_time": "2024-04-18T15:32:41.703054",
     "exception": false,
     "start_time": "2024-04-18T15:32:41.682455",
     "status": "completed"
    },
    "tags": []
   },
   "outputs": [],
   "source": [
    "df['answer'] = answers"
   ]
  },
  {
   "cell_type": "code",
   "execution_count": 11,
   "id": "5135e5b2",
   "metadata": {
    "_cell_guid": "4c17f651-3943-4b9c-9043-6f1066671196",
    "_uuid": "c8ecb352-73f8-4906-ac95-566915037c7a",
    "collapsed": false,
    "execution": {
     "iopub.execute_input": "2024-04-18T15:32:41.729439Z",
     "iopub.status.busy": "2024-04-18T15:32:41.729035Z",
     "iopub.status.idle": "2024-04-18T15:32:41.779158Z",
     "shell.execute_reply": "2024-04-18T15:32:41.778033Z"
    },
    "jupyter": {
     "outputs_hidden": false
    },
    "papermill": {
     "duration": 0.066358,
     "end_time": "2024-04-18T15:32:41.781938",
     "exception": false,
     "start_time": "2024-04-18T15:32:41.715580",
     "status": "completed"
    },
    "tags": []
   },
   "outputs": [],
   "source": [
    "df[['id','answer']].to_csv(\"submission.csv\", header=True, index=False)"
   ]
  },
  {
   "cell_type": "code",
   "execution_count": 12,
   "id": "f5ac153f",
   "metadata": {
    "_cell_guid": "1622d345-0425-4d6a-b065-16d7ccef15e9",
    "_uuid": "c50d134e-78b3-4b57-8a41-f29fe605139a",
    "collapsed": false,
    "execution": {
     "iopub.execute_input": "2024-04-18T15:32:41.808264Z",
     "iopub.status.busy": "2024-04-18T15:32:41.807197Z",
     "iopub.status.idle": "2024-04-18T15:32:41.819428Z",
     "shell.execute_reply": "2024-04-18T15:32:41.818410Z"
    },
    "jupyter": {
     "outputs_hidden": false
    },
    "papermill": {
     "duration": 0.027778,
     "end_time": "2024-04-18T15:32:41.821707",
     "exception": false,
     "start_time": "2024-04-18T15:32:41.793929",
     "status": "completed"
    },
    "tags": []
   },
   "outputs": [
    {
     "data": {
      "text/html": [
       "<div>\n",
       "<style scoped>\n",
       "    .dataframe tbody tr th:only-of-type {\n",
       "        vertical-align: middle;\n",
       "    }\n",
       "\n",
       "    .dataframe tbody tr th {\n",
       "        vertical-align: top;\n",
       "    }\n",
       "\n",
       "    .dataframe thead th {\n",
       "        text-align: right;\n",
       "    }\n",
       "</style>\n",
       "<table border=\"1\" class=\"dataframe\">\n",
       "  <thead>\n",
       "    <tr style=\"text-align: right;\">\n",
       "      <th></th>\n",
       "      <th>id</th>\n",
       "      <th>answer</th>\n",
       "    </tr>\n",
       "  </thead>\n",
       "  <tbody>\n",
       "    <tr>\n",
       "      <th>0</th>\n",
       "      <td>229ee8</td>\n",
       "      <td>2</td>\n",
       "    </tr>\n",
       "    <tr>\n",
       "      <th>1</th>\n",
       "      <td>246d26</td>\n",
       "      <td>13</td>\n",
       "    </tr>\n",
       "    <tr>\n",
       "      <th>2</th>\n",
       "      <td>2fc4ad</td>\n",
       "      <td>36</td>\n",
       "    </tr>\n",
       "    <tr>\n",
       "      <th>3</th>\n",
       "      <td>430b63</td>\n",
       "      <td>67</td>\n",
       "    </tr>\n",
       "    <tr>\n",
       "      <th>4</th>\n",
       "      <td>5277ed</td>\n",
       "      <td>880</td>\n",
       "    </tr>\n",
       "  </tbody>\n",
       "</table>\n",
       "</div>"
      ],
      "text/plain": [
       "       id  answer\n",
       "0  229ee8       2\n",
       "1  246d26      13\n",
       "2  2fc4ad      36\n",
       "3  430b63      67\n",
       "4  5277ed     880"
      ]
     },
     "execution_count": 12,
     "metadata": {},
     "output_type": "execute_result"
    }
   ],
   "source": [
    "df[['id','answer']].head()"
   ]
  },
  {
   "cell_type": "code",
   "execution_count": 13,
   "id": "b5da2ba4",
   "metadata": {
    "_cell_guid": "3e018cd0-ed01-4466-bb7e-88ebaf48ec07",
    "_uuid": "c99fbadc-e6e1-49c3-be4b-ba6005606d39",
    "collapsed": false,
    "execution": {
     "iopub.execute_input": "2024-04-18T15:32:41.848882Z",
     "iopub.status.busy": "2024-04-18T15:32:41.847744Z",
     "iopub.status.idle": "2024-04-18T15:32:41.867418Z",
     "shell.execute_reply": "2024-04-18T15:32:41.866043Z"
    },
    "jupyter": {
     "outputs_hidden": false
    },
    "papermill": {
     "duration": 0.035915,
     "end_time": "2024-04-18T15:32:41.870002",
     "exception": false,
     "start_time": "2024-04-18T15:32:41.834087",
     "status": "completed"
    },
    "tags": []
   },
   "outputs": [
    {
     "name": "stdout",
     "output_type": "stream",
     "text": [
      "1 matches in 10 examples\n"
     ]
    }
   ],
   "source": [
    "if not PRIVATE:\n",
    "    df = pd.read_csv('/kaggle/input/ai-mathematical-olympiad-prize/train.csv')\n",
    "    df['model_answer'] = answers\n",
    "    df['match'] = df.answer == df.model_answer\n",
    "    print(f'{df.match.sum()} matches in {len(df)} examples')"
   ]
  },
  {
   "cell_type": "code",
   "execution_count": null,
   "id": "c69ee4e6",
   "metadata": {
    "_cell_guid": "19974a10-b576-49c9-af2d-b07da44ed06b",
    "_uuid": "cd739635-bd20-465c-b7df-f14130e92dbb",
    "collapsed": false,
    "jupyter": {
     "outputs_hidden": false
    },
    "papermill": {
     "duration": 0.012363,
     "end_time": "2024-04-18T15:32:41.895044",
     "exception": false,
     "start_time": "2024-04-18T15:32:41.882681",
     "status": "completed"
    },
    "tags": []
   },
   "outputs": [],
   "source": []
  }
 ],
 "metadata": {
  "kaggle": {
   "accelerator": "nvidiaTeslaT4",
   "dataSources": [
    {
     "databundleVersionId": 8085542,
     "sourceId": 73231,
     "sourceType": "competition"
    },
    {
     "datasetId": 4281572,
     "sourceId": 7369493,
     "sourceType": "datasetVersion"
    },
    {
     "modelInstanceId": 3900,
     "sourceId": 5112,
     "sourceType": "modelInstanceVersion"
    },
    {
     "modelInstanceId": 4761,
     "sourceId": 5994,
     "sourceType": "modelInstanceVersion"
    },
    {
     "modelInstanceId": 8318,
     "sourceId": 11382,
     "sourceType": "modelInstanceVersion"
    },
    {
     "modelInstanceId": 8332,
     "sourceId": 11394,
     "sourceType": "modelInstanceVersion"
    }
   ],
   "dockerImageVersionId": 30674,
   "isGpuEnabled": true,
   "isInternetEnabled": false,
   "language": "python",
   "sourceType": "notebook"
  },
  "kernelspec": {
   "display_name": "Python 3",
   "language": "python",
   "name": "python3"
  },
  "language_info": {
   "codemirror_mode": {
    "name": "ipython",
    "version": 3
   },
   "file_extension": ".py",
   "mimetype": "text/x-python",
   "name": "python",
   "nbconvert_exporter": "python",
   "pygments_lexer": "ipython3",
   "version": "3.10.13"
  },
  "papermill": {
   "default_parameters": {},
   "duration": 2644.425745,
   "end_time": "2024-04-18T15:32:45.497950",
   "environment_variables": {},
   "exception": null,
   "input_path": "__notebook__.ipynb",
   "output_path": "__notebook__.ipynb",
   "parameters": {},
   "start_time": "2024-04-18T14:48:41.072205",
   "version": "2.5.0"
  },
  "widgets": {
   "application/vnd.jupyter.widget-state+json": {
    "state": {
     "3390da1087e24819bdd04dc6e2f0f2fb": {
      "model_module": "@jupyter-widgets/controls",
      "model_module_version": "1.5.0",
      "model_name": "HTMLModel",
      "state": {
       "_dom_classes": [],
       "_model_module": "@jupyter-widgets/controls",
       "_model_module_version": "1.5.0",
       "_model_name": "HTMLModel",
       "_view_count": null,
       "_view_module": "@jupyter-widgets/controls",
       "_view_module_version": "1.5.0",
       "_view_name": "HTMLView",
       "description": "",
       "description_tooltip": null,
       "layout": "IPY_MODEL_8e01076a20f947f2b93be78de370667b",
       "placeholder": "​",
       "style": "IPY_MODEL_f6fe3cb67ca5478480129b696b606dce",
       "value": "Loading checkpoint shards: 100%"
      }
     },
     "422a7c176c6449f79776b4151f87c696": {
      "model_module": "@jupyter-widgets/controls",
      "model_module_version": "1.5.0",
      "model_name": "HBoxModel",
      "state": {
       "_dom_classes": [],
       "_model_module": "@jupyter-widgets/controls",
       "_model_module_version": "1.5.0",
       "_model_name": "HBoxModel",
       "_view_count": null,
       "_view_module": "@jupyter-widgets/controls",
       "_view_module_version": "1.5.0",
       "_view_name": "HBoxView",
       "box_style": "",
       "children": [
        "IPY_MODEL_3390da1087e24819bdd04dc6e2f0f2fb",
        "IPY_MODEL_90ee8fbeaa83429285b96461df84d8fe",
        "IPY_MODEL_dfe1c261f519467c81ab8329f1f4e119"
       ],
       "layout": "IPY_MODEL_92153b8c604f498f936eae557bbbdfff"
      }
     },
     "44693024e847415db85c1ac3bae3dedf": {
      "model_module": "@jupyter-widgets/base",
      "model_module_version": "1.2.0",
      "model_name": "LayoutModel",
      "state": {
       "_model_module": "@jupyter-widgets/base",
       "_model_module_version": "1.2.0",
       "_model_name": "LayoutModel",
       "_view_count": null,
       "_view_module": "@jupyter-widgets/base",
       "_view_module_version": "1.2.0",
       "_view_name": "LayoutView",
       "align_content": null,
       "align_items": null,
       "align_self": null,
       "border": null,
       "bottom": null,
       "display": null,
       "flex": null,
       "flex_flow": null,
       "grid_area": null,
       "grid_auto_columns": null,
       "grid_auto_flow": null,
       "grid_auto_rows": null,
       "grid_column": null,
       "grid_gap": null,
       "grid_row": null,
       "grid_template_areas": null,
       "grid_template_columns": null,
       "grid_template_rows": null,
       "height": null,
       "justify_content": null,
       "justify_items": null,
       "left": null,
       "margin": null,
       "max_height": null,
       "max_width": null,
       "min_height": null,
       "min_width": null,
       "object_fit": null,
       "object_position": null,
       "order": null,
       "overflow": null,
       "overflow_x": null,
       "overflow_y": null,
       "padding": null,
       "right": null,
       "top": null,
       "visibility": null,
       "width": null
      }
     },
     "8e01076a20f947f2b93be78de370667b": {
      "model_module": "@jupyter-widgets/base",
      "model_module_version": "1.2.0",
      "model_name": "LayoutModel",
      "state": {
       "_model_module": "@jupyter-widgets/base",
       "_model_module_version": "1.2.0",
       "_model_name": "LayoutModel",
       "_view_count": null,
       "_view_module": "@jupyter-widgets/base",
       "_view_module_version": "1.2.0",
       "_view_name": "LayoutView",
       "align_content": null,
       "align_items": null,
       "align_self": null,
       "border": null,
       "bottom": null,
       "display": null,
       "flex": null,
       "flex_flow": null,
       "grid_area": null,
       "grid_auto_columns": null,
       "grid_auto_flow": null,
       "grid_auto_rows": null,
       "grid_column": null,
       "grid_gap": null,
       "grid_row": null,
       "grid_template_areas": null,
       "grid_template_columns": null,
       "grid_template_rows": null,
       "height": null,
       "justify_content": null,
       "justify_items": null,
       "left": null,
       "margin": null,
       "max_height": null,
       "max_width": null,
       "min_height": null,
       "min_width": null,
       "object_fit": null,
       "object_position": null,
       "order": null,
       "overflow": null,
       "overflow_x": null,
       "overflow_y": null,
       "padding": null,
       "right": null,
       "top": null,
       "visibility": null,
       "width": null
      }
     },
     "90ee8fbeaa83429285b96461df84d8fe": {
      "model_module": "@jupyter-widgets/controls",
      "model_module_version": "1.5.0",
      "model_name": "FloatProgressModel",
      "state": {
       "_dom_classes": [],
       "_model_module": "@jupyter-widgets/controls",
       "_model_module_version": "1.5.0",
       "_model_name": "FloatProgressModel",
       "_view_count": null,
       "_view_module": "@jupyter-widgets/controls",
       "_view_module_version": "1.5.0",
       "_view_name": "ProgressView",
       "bar_style": "success",
       "description": "",
       "description_tooltip": null,
       "layout": "IPY_MODEL_44693024e847415db85c1ac3bae3dedf",
       "max": 19.0,
       "min": 0.0,
       "orientation": "horizontal",
       "style": "IPY_MODEL_de49eb2839b244b99a11af66139f2613",
       "value": 19.0
      }
     },
     "92153b8c604f498f936eae557bbbdfff": {
      "model_module": "@jupyter-widgets/base",
      "model_module_version": "1.2.0",
      "model_name": "LayoutModel",
      "state": {
       "_model_module": "@jupyter-widgets/base",
       "_model_module_version": "1.2.0",
       "_model_name": "LayoutModel",
       "_view_count": null,
       "_view_module": "@jupyter-widgets/base",
       "_view_module_version": "1.2.0",
       "_view_name": "LayoutView",
       "align_content": null,
       "align_items": null,
       "align_self": null,
       "border": null,
       "bottom": null,
       "display": null,
       "flex": null,
       "flex_flow": null,
       "grid_area": null,
       "grid_auto_columns": null,
       "grid_auto_flow": null,
       "grid_auto_rows": null,
       "grid_column": null,
       "grid_gap": null,
       "grid_row": null,
       "grid_template_areas": null,
       "grid_template_columns": null,
       "grid_template_rows": null,
       "height": null,
       "justify_content": null,
       "justify_items": null,
       "left": null,
       "margin": null,
       "max_height": null,
       "max_width": null,
       "min_height": null,
       "min_width": null,
       "object_fit": null,
       "object_position": null,
       "order": null,
       "overflow": null,
       "overflow_x": null,
       "overflow_y": null,
       "padding": null,
       "right": null,
       "top": null,
       "visibility": null,
       "width": null
      }
     },
     "b40371cb24e243398217dbb883c23531": {
      "model_module": "@jupyter-widgets/controls",
      "model_module_version": "1.5.0",
      "model_name": "DescriptionStyleModel",
      "state": {
       "_model_module": "@jupyter-widgets/controls",
       "_model_module_version": "1.5.0",
       "_model_name": "DescriptionStyleModel",
       "_view_count": null,
       "_view_module": "@jupyter-widgets/base",
       "_view_module_version": "1.2.0",
       "_view_name": "StyleView",
       "description_width": ""
      }
     },
     "c97c365587f645028ab7a94330208724": {
      "model_module": "@jupyter-widgets/base",
      "model_module_version": "1.2.0",
      "model_name": "LayoutModel",
      "state": {
       "_model_module": "@jupyter-widgets/base",
       "_model_module_version": "1.2.0",
       "_model_name": "LayoutModel",
       "_view_count": null,
       "_view_module": "@jupyter-widgets/base",
       "_view_module_version": "1.2.0",
       "_view_name": "LayoutView",
       "align_content": null,
       "align_items": null,
       "align_self": null,
       "border": null,
       "bottom": null,
       "display": null,
       "flex": null,
       "flex_flow": null,
       "grid_area": null,
       "grid_auto_columns": null,
       "grid_auto_flow": null,
       "grid_auto_rows": null,
       "grid_column": null,
       "grid_gap": null,
       "grid_row": null,
       "grid_template_areas": null,
       "grid_template_columns": null,
       "grid_template_rows": null,
       "height": null,
       "justify_content": null,
       "justify_items": null,
       "left": null,
       "margin": null,
       "max_height": null,
       "max_width": null,
       "min_height": null,
       "min_width": null,
       "object_fit": null,
       "object_position": null,
       "order": null,
       "overflow": null,
       "overflow_x": null,
       "overflow_y": null,
       "padding": null,
       "right": null,
       "top": null,
       "visibility": null,
       "width": null
      }
     },
     "de49eb2839b244b99a11af66139f2613": {
      "model_module": "@jupyter-widgets/controls",
      "model_module_version": "1.5.0",
      "model_name": "ProgressStyleModel",
      "state": {
       "_model_module": "@jupyter-widgets/controls",
       "_model_module_version": "1.5.0",
       "_model_name": "ProgressStyleModel",
       "_view_count": null,
       "_view_module": "@jupyter-widgets/base",
       "_view_module_version": "1.2.0",
       "_view_name": "StyleView",
       "bar_color": null,
       "description_width": ""
      }
     },
     "dfe1c261f519467c81ab8329f1f4e119": {
      "model_module": "@jupyter-widgets/controls",
      "model_module_version": "1.5.0",
      "model_name": "HTMLModel",
      "state": {
       "_dom_classes": [],
       "_model_module": "@jupyter-widgets/controls",
       "_model_module_version": "1.5.0",
       "_model_name": "HTMLModel",
       "_view_count": null,
       "_view_module": "@jupyter-widgets/controls",
       "_view_module_version": "1.5.0",
       "_view_name": "HTMLView",
       "description": "",
       "description_tooltip": null,
       "layout": "IPY_MODEL_c97c365587f645028ab7a94330208724",
       "placeholder": "​",
       "style": "IPY_MODEL_b40371cb24e243398217dbb883c23531",
       "value": " 19/19 [14:10&lt;00:00, 44.88s/it]"
      }
     },
     "f6fe3cb67ca5478480129b696b606dce": {
      "model_module": "@jupyter-widgets/controls",
      "model_module_version": "1.5.0",
      "model_name": "DescriptionStyleModel",
      "state": {
       "_model_module": "@jupyter-widgets/controls",
       "_model_module_version": "1.5.0",
       "_model_name": "DescriptionStyleModel",
       "_view_count": null,
       "_view_module": "@jupyter-widgets/base",
       "_view_module_version": "1.2.0",
       "_view_name": "StyleView",
       "description_width": ""
      }
     }
    },
    "version_major": 2,
    "version_minor": 0
   }
  }
 },
 "nbformat": 4,
 "nbformat_minor": 5
}
